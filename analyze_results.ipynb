{
 "cells": [
  {
   "cell_type": "code",
   "execution_count": 1,
   "metadata": {},
   "outputs": [],
   "source": [
    "import pandas as pd \n",
    "import matplotlib.pyplot as plt\n",
    "import re\n",
    "from pathlib import Path\n",
    "import os\n",
    "from PIL import Image\n",
    "\n",
    "def plot_something(df, x_col, y_col, title=None, x_col_name=None, y_col_name=None, yscale=\"linear\", filename=None):\n",
    "    plt.figure(figsize=(12, 6))\n",
    "    \n",
    "    plt.plot(df[x_col], df[y_col], marker='o', label=f'{y_col} vs {x_col}')\n",
    "    plt.yscale(yscale)\n",
    "    \n",
    "    if x_col_name:\n",
    "        plt.xlabel(x_col_name)\n",
    "    else:\n",
    "        plt.xlabel(x_col)\n",
    "        \n",
    "    if y_col_name:\n",
    "        plt.ylabel(y_col_name)\n",
    "    else:\n",
    "        plt.ylabel(y_col)\n",
    "        \n",
    "    \n",
    "    if title:\n",
    "        plt.title(title)\n",
    "    else:\n",
    "        plt.title(f'{y_col} vs {x_col}')\n",
    "    \n",
    "    handles, labels = plt.gca().get_legend_handles_labels()\n",
    "    if labels:\n",
    "        plt.legend()\n",
    "    \n",
    "    plt.grid(True)\n",
    "    \n",
    "    if filename:\n",
    "        plt.savefig(filename)\n",
    "        plt.close()\n",
    "    else:\n",
    "        plt.show()\n",
    "\n",
    "def plot_csv_exp1(df, dirpath=None, title_postfix=None):\n",
    "   \n",
    "    serial_time = df[df['Processes'] == 1]['ExecutionTime'].values[0]\n",
    "\n",
    "    df['Speedup'] = serial_time / df['ExecutionTime']\n",
    "    df['Efficiency'] = df['Speedup'] / df['Processes']\n",
    "    df['SerialFraction'] = (1 / df['Speedup'] - 1 / df['Processes']) / (1 - 1 / df['Processes'])\n",
    "\n",
    "    plot_something(\n",
    "        df, \n",
    "        \"Processes\", \n",
    "        \"Speedup\",\n",
    "        title=f\"Speedup vs Processes {title_postfix}\" if title_postfix else None,\n",
    "        filename=Path(dirpath)/\"speedup.png\" if dirpath else None)\n",
    "\n",
    "    plot_something(\n",
    "        df, \n",
    "        \"Processes\", \n",
    "        \"Efficiency\", \n",
    "        title=f\"Efficiency vs Processes {title_postfix}\" if title_postfix else None,\n",
    "        filename=Path(dirpath)/\"efficiency.png\" if dirpath else None)\n",
    "\n",
    "    plot_something(\n",
    "        df, \n",
    "        \"Processes\", \n",
    "        \"SerialFraction\", \n",
    "        y_col_name=\"Serial Fraction\", \n",
    "        title=f\"Serial Fraction vs Processes {title_postfix}\" if title_postfix else \"Serial Fraction vs Processes\",\n",
    "        filename=Path(dirpath)/\"serial_fraction.png\" if dirpath else None\n",
    "        )\n"
   ]
  },
  {
   "cell_type": "markdown",
   "metadata": {},
   "source": [
    "## Contact Order"
   ]
  },
  {
   "cell_type": "markdown",
   "metadata": {},
   "source": [
    "### Logs"
   ]
  },
  {
   "cell_type": "code",
   "execution_count": 87,
   "metadata": {},
   "outputs": [],
   "source": [
    "co_dir = Path(\"./contact_order\")\n",
    "\n",
    "csv_filename = co_dir / \"logs.csv\"\n",
    "\n",
    "df_co_logs = pd.read_csv(csv_filename)"
   ]
  },
  {
   "cell_type": "code",
   "execution_count": 98,
   "metadata": {},
   "outputs": [],
   "source": [
    "plot_something(\n",
    "    df=df_co_logs, \n",
    "    x_col=\"end_idx\", \n",
    "    y_col=\"checkpoint_duration\",\n",
    "    x_col_name=\"Number of processed files\",\n",
    "    y_col_name=\"Checkpoint duration time [s]\",\n",
    "    title=\"Checkpoint duration time vs number of processed files\",\n",
    "    filename=co_dir / \"exec_time_vs_checkpoints.png\"\n",
    "    )"
   ]
  },
  {
   "cell_type": "markdown",
   "metadata": {},
   "source": [
    "### Results"
   ]
  },
  {
   "cell_type": "code",
   "execution_count": 19,
   "metadata": {},
   "outputs": [],
   "source": [
    "csv_filename = \"./contact_order/contact_order_results.csv\"\n",
    "\n",
    "df_co_results = pd.read_csv(csv_filename)"
   ]
  },
  {
   "cell_type": "code",
   "execution_count": 28,
   "metadata": {},
   "outputs": [],
   "source": [
    "error_percent = round(len(df_co_results[df_co_results[\"contact_order\"].isna()])/len(df_co_results)*100, 2)"
   ]
  },
  {
   "cell_type": "code",
   "execution_count": 29,
   "metadata": {},
   "outputs": [
    {
     "name": "stdout",
     "output_type": "stream",
     "text": [
      "Error files: 6.65%\n"
     ]
    }
   ],
   "source": [
    "print(f\"Error files: {error_percent}%\")"
   ]
  },
  {
   "cell_type": "markdown",
   "metadata": {},
   "source": [
    "## Download tests"
   ]
  },
  {
   "cell_type": "code",
   "execution_count": 105,
   "metadata": {},
   "outputs": [
    {
     "name": "stdout",
     "output_type": "stream",
     "text": [
      "Error storage_client: 6.1%\n",
      "Error gsutil: 0.0%\n",
      "Error gcloud_storage: 0.0%\n"
     ]
    }
   ],
   "source": [
    "def str2sec(time_str):\n",
    "    h, m, s = map(int, time_str.split(\":\"))\n",
    "    total_seconds = h * 3600 + m * 60 + s\n",
    "    return total_seconds\n",
    "\n",
    "source_dir = \"./download_tests\"\n",
    "dst_dir = \"./download_tests_results\"\n",
    "\n",
    "\n",
    "for dir_type in Path(source_dir).iterdir():\n",
    "    if dir_type.is_dir():\n",
    "        \n",
    "        type_name = Path(dir_type).name\n",
    "        results_type = pd.DataFrame([])\n",
    "        \n",
    "        error_results = []\n",
    "        \n",
    "        for dir_type_worker in dir_type.iterdir():\n",
    "            if dir_type_worker.is_dir():\n",
    "                match = re.search(r\".*_(.*?)_.*\", dir_type_worker.name)\n",
    "                num_workers = match.group(1)\n",
    "                df_type_worker = pd.read_csv(dir_type_worker / \"download_progress.csv\")\n",
    "                df_type_worker[\"rel_time_sec\"] = df_type_worker[\"rel_time\"].apply(str2sec)\n",
    "                total_exec_time = int(df_type_worker[\"rel_time_sec\"].iloc[-1])\n",
    "                df_type_worker[\"rel_time_sec\"] = df_type_worker[\"rel_time_sec\"].diff(periods=1)\n",
    "                df_type_worker.dropna(inplace=True)\n",
    "                \n",
    "                df_type_worker_err = pd.read_csv(dir_type_worker / \"download_error.txt\")\n",
    "                num_error = len(df_type_worker_err)\n",
    "                error_results.append(num_error)\n",
    "                \n",
    "                save_dir_type_worker = Path(dst_dir) / os.path.relpath(dir_type_worker, source_dir)\n",
    "                save_dir_type_worker.mkdir(parents=True, exist_ok=True)\n",
    "                \n",
    "                plot_something(\n",
    "                    df=df_type_worker, \n",
    "                    x_col=\"num_file\", \n",
    "                    y_col=\"rel_time_sec\", \n",
    "                    title=f\"{num_workers} workers - {type_name}\",\n",
    "                    filename=save_dir_type_worker/\"relt_vs_numf.png\"\n",
    "                )\n",
    "                \n",
    "                results_type = pd.concat(\n",
    "                    [\n",
    "                        results_type,\n",
    "                        pd.DataFrame.from_dict(\n",
    "                            {\n",
    "                                \"Processes\": [int(num_workers)],\n",
    "                                \"ExecutionTime\": [total_exec_time]\n",
    "                            }\n",
    "                        )\n",
    "                        ]\n",
    "                    )\n",
    "        \n",
    "        total_files = int(df_type_worker[\"num_file\"].iloc[-1]) + 1\n",
    "        mean_type_error = round(sum(error_results)/(len(error_results)*total_files) * 100, 2)\n",
    "        print(f\"Error {type_name}: {mean_type_error}%\")\n",
    "\n",
    "            \n",
    "        save_dir_type = Path(dst_dir) / os.path.relpath(dir_type, source_dir)\n",
    "        save_dir_type.mkdir(parents=True, exist_ok=True)\n",
    "        \n",
    "        results_type = results_type.sort_values(by=\"Processes\")\n",
    "        \n",
    "        plot_something(\n",
    "                df=results_type, \n",
    "                x_col=\"Processes\", \n",
    "                y_col=\"ExecutionTime\", \n",
    "                title=f\"Total download time vs number of processes - {type_name}\",\n",
    "                x_col_name=\"Processes [s]\",\n",
    "                yscale=\"linear\",\n",
    "                filename=save_dir_type/\"exect_vs_proc.png\"\n",
    "            )  \n",
    "        \n",
    "        plot_something(\n",
    "                df=results_type, \n",
    "                x_col=\"Processes\", \n",
    "                y_col=\"ExecutionTime\", \n",
    "                title=f\"Total download time vs number of processes - {type_name}\",\n",
    "                x_col_name=\"Processes [s]\",\n",
    "                yscale=\"log\",\n",
    "                filename=save_dir_type/\"exect_vs_proc_log.png\"\n",
    "            )  \n",
    "          \n",
    "        plot_csv_exp1(results_type, dirpath=save_dir_type, title_postfix=f\" - {type_name}\")\n",
    "            \n",
    "                "
   ]
  },
  {
   "cell_type": "markdown",
   "metadata": {},
   "source": [
    "Concatenate plots for better readability"
   ]
  },
  {
   "cell_type": "code",
   "execution_count": null,
   "metadata": {},
   "outputs": [],
   "source": [
    "files = [\n",
    "    \"efficiency.png\",\n",
    "    \"exect_vs_proc_log.png\",\n",
    "    \"exect_vs_proc.png\",\n",
    "    \"serial_fraction.png\",\n",
    "    \"speedup.png\",\n",
    "]\n",
    "\n",
    "all_files = dict(zip(files, [[] for _ in range (len(files))]))\n",
    "\n",
    "for dir_type in Path(source_dir).iterdir():\n",
    "    if dir_type.is_dir():\n",
    "        save_dir_type = Path(dst_dir) / os.path.relpath(dir_type, source_dir)\n",
    "        \n",
    "        for file in files:\n",
    "            all_files[file].append(save_dir_type/file)\n",
    "            \n",
    "for file_type, paths in all_files.items():\n",
    "\n",
    "    images = [Image.open(img) for img in paths]\n",
    "\n",
    "    width = max(img.width for img in images)\n",
    "    total_height = sum(img.height for img in images)\n",
    "\n",
    "    new_image = Image.new(\"RGB\", (width, total_height))\n",
    "\n",
    "    y_offset = 0\n",
    "    for img in images:\n",
    "        new_image.paste(img, (0, y_offset))\n",
    "        y_offset += img.height\n",
    "\n",
    "    new_image.save(Path(dst_dir)/(file_type[:-4]+\"_all.png\"))"
   ]
  }
 ],
 "metadata": {
  "kernelspec": {
   "display_name": ".venv_lsc",
   "language": "python",
   "name": "python3"
  },
  "language_info": {
   "codemirror_mode": {
    "name": "ipython",
    "version": 3
   },
   "file_extension": ".py",
   "mimetype": "text/x-python",
   "name": "python",
   "nbconvert_exporter": "python",
   "pygments_lexer": "ipython3",
   "version": "3.12.3"
  }
 },
 "nbformat": 4,
 "nbformat_minor": 2
}
